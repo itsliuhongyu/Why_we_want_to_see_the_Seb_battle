{
 "cells": [
  {
   "cell_type": "code",
   "execution_count": 2,
   "id": "853025a2",
   "metadata": {},
   "outputs": [],
   "source": [
    "%load_ext rpy2.ipython\n",
    "%load_ext autoreload\n",
    "%autoreload 2\n",
    "\n",
    "%matplotlib inline  \n",
    "from matplotlib import rcParams\n",
    "rcParams['figure.figsize'] = (16, 100)\n",
    "\n",
    "import warnings\n",
    "from rpy2.rinterface import RRuntimeWarning\n",
    "warnings.filterwarnings(\"ignore\") # Ignore all warnings\n",
    "# warnings.filterwarnings(\"ignore\", category=RRuntimeWarning) # Show some warnings\n",
    "\n",
    "import pandas as pd\n",
    "import numpy as np\n",
    "import matplotlib.pyplot as plt\n",
    "from IPython.display import display, HTML"
   ]
  },
  {
   "cell_type": "code",
   "execution_count": 3,
   "id": "29e5f803",
   "metadata": {},
   "outputs": [
    {
     "data": {
      "application/javascript": [
       "// Disable auto-scrolling\n",
       "IPython.OutputArea.prototype._should_scroll = function(lines) {\n",
       "    return false;\n",
       "}\n"
      ],
      "text/plain": [
       "<IPython.core.display.Javascript object>"
      ]
     },
     "metadata": {},
     "output_type": "display_data"
    }
   ],
   "source": [
    "%%javascript\n",
    "// Disable auto-scrolling\n",
    "IPython.OutputArea.prototype._should_scroll = function(lines) {\n",
    "    return false;\n",
    "}"
   ]
  },
  {
   "cell_type": "code",
   "execution_count": 4,
   "id": "7f1a6af1",
   "metadata": {},
   "outputs": [
    {
     "name": "stderr",
     "output_type": "stream",
     "text": [
      "R[write to console]: Loading required package: tidyverse\n",
      "\n"
     ]
    },
    {
     "name": "stdout",
     "output_type": "stream",
     "text": [
      "── Attaching packages ─────────────────────────────────────── tidyverse 1.3.2 ──\n",
      "✔ ggplot2 3.4.0     ✔ purrr   0.3.5\n",
      "✔ tibble  3.1.8     ✔ dplyr   1.1.0\n",
      "✔ tidyr   1.2.1     ✔ stringr 1.4.1\n",
      "✔ readr   2.1.3     ✔ forcats 0.5.2\n",
      "── Conflicts ────────────────────────────────────────── tidyverse_conflicts() ──\n",
      "✖ dplyr::filter() masks stats::filter()\n",
      "✖ dplyr::lag()    masks stats::lag()\n"
     ]
    }
   ],
   "source": [
    "%%R\n",
    "\n",
    "# My commonly used R imports\n",
    "\n",
    "require('tidyverse')\n",
    "library(ggbump)\n",
    "library(grid)\n",
    "library(ggplot2)"
   ]
  },
  {
   "cell_type": "code",
   "execution_count": 5,
   "id": "a41a214a",
   "metadata": {},
   "outputs": [],
   "source": [
    "%%R\n",
    " \n",
    "df <- data.frame(\n",
    "  Driver = c(\"Sébastien Loeb\", \"Sébastien Ogier\"),\n",
    "  Total_WRC_Championship_wins = c(9,8),\n",
    "  Stage_Win_Rates = c(0.31, 0.22)\n",
    ")"
   ]
  },
  {
   "cell_type": "markdown",
   "id": "71e1a68d",
   "metadata": {},
   "source": [
    "# Illustration for career wins"
   ]
  },
  {
   "cell_type": "code",
   "execution_count": 63,
   "id": "bc2b4c59",
   "metadata": {},
   "outputs": [
    {
     "name": "stdout",
     "output_type": "stream",
     "text": [
      "Saving 6.67 x 6.67 in image\n"
     ]
    }
   ],
   "source": [
    "%%R\n",
    "\n",
    "# Create a data frame with x and y coordinates for each point in the grid\n",
    "df <- expand.grid(x = 1:10, y = 10:1)\n",
    "\n",
    "# Add a column to the data frame to indicate whether each point should be red or gray\n",
    "df$color <- ifelse(row_number(df) <= 31, \"#F2F2F2\" , \"#fc3b2b\")\n",
    "\n",
    "# Create the plot\n",
    "ggplot(df, aes(x, y)) +\n",
    "  geom_tile(aes(fill = color), color = \"white\") +\n",
    "  scale_fill_manual(values = c(\"#fc3b2b\", \"#F2F2F2\"), guide = \"none\") +\n",
    "  coord_equal() +\n",
    "  theme_void()\n",
    "\n",
    "ggsave(\"sl.pdf\")"
   ]
  },
  {
   "cell_type": "code",
   "execution_count": 64,
   "id": "09d366a7",
   "metadata": {},
   "outputs": [
    {
     "name": "stdout",
     "output_type": "stream",
     "text": [
      "Saving 6.67 x 6.67 in image\n"
     ]
    }
   ],
   "source": [
    "%%R\n",
    "\n",
    "# Create a data frame with x and y coordinates for each point in the grid\n",
    "df <- expand.grid(x = 1:10, y = 1:10)\n",
    "\n",
    "# Add a column to the data frame to indicate whether each point should be blue or gray\n",
    "df$color <- ifelse(row_number(df) <= 22, \"#F2F2F2\", \"#1d98ca\")\n",
    "\n",
    "# Create the plot\n",
    "ggplot(df, aes(x = x, y = y, fill = color)) +\n",
    "  geom_tile(color = \"white\") +\n",
    "  scale_fill_manual(values = c(\"#F2F2F2\", \"#1d98ca\")) +\n",
    "  theme_void()\n",
    "\n",
    "ggsave(\"so.pdf\")"
   ]
  },
  {
   "cell_type": "markdown",
   "id": "cea84e43",
   "metadata": {},
   "source": [
    "# Illustration for DNF"
   ]
  },
  {
   "cell_type": "code",
   "execution_count": 6,
   "id": "9c435ed3",
   "metadata": {},
   "outputs": [
    {
     "name": "stdout",
     "output_type": "stream",
     "text": [
      "Saving 6.67 x 6.67 in image\n"
     ]
    }
   ],
   "source": [
    "%%R\n",
    "\n",
    "# Create a data frame with x and y coordinates for each point in the grid\n",
    "df <- expand.grid(x = 1:10, y = 10:1)\n",
    "\n",
    "# Add a column to the data frame to indicate whether each point should be red or gray\n",
    "df$color <- ifelse(row_number(df) <= 13, \"#F2F2F2\" , \"#fc3b2b\")\n",
    "\n",
    "# Create the plot\n",
    "ggplot(df, aes(x, y)) +\n",
    "  geom_tile(aes(fill = color), color = \"white\") +\n",
    "  scale_fill_manual(values = c(\"#fc3b2b\", \"#F2F2F2\"), guide = \"none\") +\n",
    "  coord_equal() +\n",
    "  theme_void()\n",
    "\n",
    "ggsave(\"sl-dnf.pdf\")"
   ]
  },
  {
   "cell_type": "code",
   "execution_count": 8,
   "id": "ee66869f",
   "metadata": {},
   "outputs": [
    {
     "name": "stdout",
     "output_type": "stream",
     "text": [
      "Saving 6.67 x 6.67 in image\n"
     ]
    }
   ],
   "source": [
    "%%R\n",
    "\n",
    "# Create a data frame with x and y coordinates for each point in the grid\n",
    "df <- expand.grid(x = 1:10, y = 1:10)\n",
    "\n",
    "# Add a column to the data frame to indicate whether each point should be blue or gray\n",
    "df$color <- ifelse(row_number(df) <= 8, \"#F2F2F2\", \"#1d98ca\")\n",
    "\n",
    "# Create the plot\n",
    "ggplot(df, aes(x = x, y = y, fill = color)) +\n",
    "  geom_tile(color = \"white\") +\n",
    "  scale_fill_manual(values = c(\"#F2F2F2\", \"#1d98ca\"), guide = \"none\") +\n",
    "  theme_void()\n",
    "\n",
    "ggsave(\"so-dnf.pdf\")"
   ]
  },
  {
   "cell_type": "code",
   "execution_count": null,
   "id": "3bc00dcc",
   "metadata": {},
   "outputs": [],
   "source": []
  }
 ],
 "metadata": {
  "kernelspec": {
   "display_name": "Python 3 (ipykernel)",
   "language": "python",
   "name": "python3"
  },
  "language_info": {
   "codemirror_mode": {
    "name": "ipython",
    "version": 3
   },
   "file_extension": ".py",
   "mimetype": "text/x-python",
   "name": "python",
   "nbconvert_exporter": "python",
   "pygments_lexer": "ipython3",
   "version": "3.11.0rc2"
  }
 },
 "nbformat": 4,
 "nbformat_minor": 5
}
